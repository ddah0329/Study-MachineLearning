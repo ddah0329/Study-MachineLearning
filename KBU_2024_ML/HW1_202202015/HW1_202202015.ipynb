{
 "cells": [
  {
   "cell_type": "code",
   "execution_count": 1,
   "id": "3dca9687-840c-4b7c-9cf3-f5ffe4191162",
   "metadata": {},
   "outputs": [
    {
     "data": {
      "text/html": [
       "<div>\n",
       "<style scoped>\n",
       "    .dataframe tbody tr th:only-of-type {\n",
       "        vertical-align: middle;\n",
       "    }\n",
       "\n",
       "    .dataframe tbody tr th {\n",
       "        vertical-align: top;\n",
       "    }\n",
       "\n",
       "    .dataframe thead th {\n",
       "        text-align: right;\n",
       "    }\n",
       "</style>\n",
       "<table border=\"1\" class=\"dataframe\">\n",
       "  <thead>\n",
       "    <tr style=\"text-align: right;\">\n",
       "      <th></th>\n",
       "      <th>GRE_Score</th>\n",
       "      <th>TOEFL_Score</th>\n",
       "      <th>University_Rating</th>\n",
       "      <th>SOP</th>\n",
       "      <th>LOR</th>\n",
       "      <th>CGPA</th>\n",
       "      <th>Research</th>\n",
       "      <th>Chance_of_Admit</th>\n",
       "    </tr>\n",
       "  </thead>\n",
       "  <tbody>\n",
       "    <tr>\n",
       "      <th>0</th>\n",
       "      <td>337.0</td>\n",
       "      <td>118</td>\n",
       "      <td>4</td>\n",
       "      <td>4.5</td>\n",
       "      <td>4.5</td>\n",
       "      <td>9.65</td>\n",
       "      <td>1</td>\n",
       "      <td>0.92</td>\n",
       "    </tr>\n",
       "    <tr>\n",
       "      <th>1</th>\n",
       "      <td>324.0</td>\n",
       "      <td>107</td>\n",
       "      <td>4</td>\n",
       "      <td>4.0</td>\n",
       "      <td>4.5</td>\n",
       "      <td>8.87</td>\n",
       "      <td>1</td>\n",
       "      <td>0.76</td>\n",
       "    </tr>\n",
       "    <tr>\n",
       "      <th>2</th>\n",
       "      <td>316.0</td>\n",
       "      <td>104</td>\n",
       "      <td>3</td>\n",
       "      <td>3.0</td>\n",
       "      <td>3.5</td>\n",
       "      <td>8.00</td>\n",
       "      <td>1</td>\n",
       "      <td>0.72</td>\n",
       "    </tr>\n",
       "    <tr>\n",
       "      <th>3</th>\n",
       "      <td>322.0</td>\n",
       "      <td>110</td>\n",
       "      <td>3</td>\n",
       "      <td>3.5</td>\n",
       "      <td>2.5</td>\n",
       "      <td>8.67</td>\n",
       "      <td>1</td>\n",
       "      <td>0.80</td>\n",
       "    </tr>\n",
       "    <tr>\n",
       "      <th>4</th>\n",
       "      <td>314.0</td>\n",
       "      <td>103</td>\n",
       "      <td>2</td>\n",
       "      <td>2.0</td>\n",
       "      <td>3.0</td>\n",
       "      <td>8.21</td>\n",
       "      <td>0</td>\n",
       "      <td>0.65</td>\n",
       "    </tr>\n",
       "  </tbody>\n",
       "</table>\n",
       "</div>"
      ],
      "text/plain": [
       "   GRE_Score  TOEFL_Score  University_Rating  SOP  LOR  CGPA  Research  \\\n",
       "0      337.0          118                  4  4.5  4.5  9.65         1   \n",
       "1      324.0          107                  4  4.0  4.5  8.87         1   \n",
       "2      316.0          104                  3  3.0  3.5  8.00         1   \n",
       "3      322.0          110                  3  3.5  2.5  8.67         1   \n",
       "4      314.0          103                  2  2.0  3.0  8.21         0   \n",
       "\n",
       "   Chance_of_Admit  \n",
       "0             0.92  \n",
       "1             0.76  \n",
       "2             0.72  \n",
       "3             0.80  \n",
       "4             0.65  "
      ]
     },
     "execution_count": 1,
     "metadata": {},
     "output_type": "execute_result"
    }
   ],
   "source": [
    "# 1 파일을 읽고 데이터의 앞 부분을 출력하는 코드\n",
    "\n",
    "import pandas as pd\n",
    "import numpy as np\n",
    "\n",
    "df = pd.read_csv('/Users/dahyoun/Documents/coding/Python/MachineLearning/KBU_2024_ML/dataSource/admission.csv')\n",
    "df.head()"
   ]
  },
  {
   "cell_type": "code",
   "execution_count": 2,
   "id": "40d9005b-4883-4c57-9574-bc421cc57f48",
   "metadata": {},
   "outputs": [
    {
     "name": "stdout",
     "output_type": "stream",
     "text": [
      "1   7.745769\n",
      "2   8.183738\n",
      "3   8.552256\n",
      "4   9.021622\n",
      "5   9.291167\n"
     ]
    }
   ],
   "source": [
    "# 2 대학평가지수(University_Rating)에 따른 학부 성적의 평균을 구하는 코드 \n",
    "\n",
    "def custom_mean(group):\n",
    "    return np.mean(group)\n",
    "\n",
    "num2_ans = df.groupby('University_Rating')['CGPA'].agg(custom_mean)\n",
    "\n",
    "print(num2_ans.to_string(header=False, float_format=\"{:.6f}\".format))\n"
   ]
  },
  {
   "cell_type": "code",
   "execution_count": 3,
   "id": "f461059a-34a2-4dc1-af7f-8f3f008738a4",
   "metadata": {},
   "outputs": [
    {
     "name": "stdout",
     "output_type": "stream",
     "text": [
      "연구경험 유:  0.5475\n",
      "연구경험 무:  0.4525\n"
     ]
    }
   ],
   "source": [
    "#3 연구 경험 유무에 따른 비율을 구하는 코드\n",
    "\n",
    "research_counts = df['Research'].value_counts()\n",
    "research_ratio = research_counts / research_counts.sum()\n",
    "\n",
    "research_yes = research_ratio[1]\n",
    "research_no = research_ratio[0]\n",
    "\n",
    "print(\"연구경험 유: \", research_yes)\n",
    "print(\"연구경험 무: \", research_no)"
   ]
  },
  {
   "cell_type": "code",
   "execution_count": 4,
   "id": "35e7ef8f-72b6-4e3c-8cd5-ff1ace6789b2",
   "metadata": {},
   "outputs": [
    {
     "data": {
      "text/plain": [
       "GRE_Score            0.02\n",
       "TOEFL_Score          0.00\n",
       "University_Rating    0.00\n",
       "SOP                  0.00\n",
       "LOR                  0.00\n",
       "CGPA                 0.00\n",
       "Research             0.00\n",
       "Chance_of_Admit      0.00\n",
       "dtype: float64"
      ]
     },
     "execution_count": 4,
     "metadata": {},
     "output_type": "execute_result"
    }
   ],
   "source": [
    "#4 결측치 비율을 확인하는 코드\n",
    "\n",
    "num4_ans = df.isnull().mean()\n",
    "num4_ans"
   ]
  },
  {
   "cell_type": "code",
   "execution_count": 5,
   "id": "a6b1481e-1edc-4cac-9b57-deb5b1c002cd",
   "metadata": {},
   "outputs": [
    {
     "name": "stdout",
     "output_type": "stream",
     "text": [
      "GRE_Score            0\n",
      "TOEFL_Score          0\n",
      "University_Rating    0\n",
      "SOP                  0\n",
      "LOR                  0\n",
      "CGPA                 0\n",
      "Research             0\n",
      "Chance_of_Admit      0\n",
      "dtype: int64\n"
     ]
    }
   ],
   "source": [
    "# 5 결축치가 있는 열에 대하여 대학평가지수에 따른 평균값으로 대체하고 다시 결측치 개수를 확인하는 코드\n",
    "\n",
    "num5_ans = df.apply(lambda column: column.fillna(df.groupby('University_Rating')[column.name].transform('mean')) if column.isnull().any() else column)\n",
    "\n",
    "num5_ans = num5_ans.isnull().sum()\n",
    "print(num5_ans)"
   ]
  },
  {
   "cell_type": "code",
   "execution_count": 6,
   "id": "0de9ed80-4bc6-4667-85a6-df490502f58a",
   "metadata": {},
   "outputs": [
    {
     "data": {
      "text/html": [
       "<div>\n",
       "<style scoped>\n",
       "    .dataframe tbody tr th:only-of-type {\n",
       "        vertical-align: middle;\n",
       "    }\n",
       "\n",
       "    .dataframe tbody tr th {\n",
       "        vertical-align: top;\n",
       "    }\n",
       "\n",
       "    .dataframe thead th {\n",
       "        text-align: right;\n",
       "    }\n",
       "</style>\n",
       "<table border=\"1\" class=\"dataframe\">\n",
       "  <thead>\n",
       "    <tr style=\"text-align: right;\">\n",
       "      <th></th>\n",
       "      <th>GRE_Score</th>\n",
       "      <th>TOEFL_Score</th>\n",
       "      <th>University_Rating</th>\n",
       "      <th>SOP</th>\n",
       "      <th>LOR</th>\n",
       "      <th>CGPA</th>\n",
       "      <th>Research</th>\n",
       "      <th>Chance_of_Admit</th>\n",
       "      <th>UR_1</th>\n",
       "      <th>UR_2</th>\n",
       "      <th>UR_3</th>\n",
       "      <th>UR_4</th>\n",
       "      <th>UR_5</th>\n",
       "    </tr>\n",
       "  </thead>\n",
       "  <tbody>\n",
       "    <tr>\n",
       "      <th>0</th>\n",
       "      <td>337.0</td>\n",
       "      <td>118</td>\n",
       "      <td>4</td>\n",
       "      <td>4.5</td>\n",
       "      <td>4.5</td>\n",
       "      <td>9.65</td>\n",
       "      <td>1</td>\n",
       "      <td>0.92</td>\n",
       "      <td>False</td>\n",
       "      <td>False</td>\n",
       "      <td>False</td>\n",
       "      <td>True</td>\n",
       "      <td>False</td>\n",
       "    </tr>\n",
       "    <tr>\n",
       "      <th>1</th>\n",
       "      <td>324.0</td>\n",
       "      <td>107</td>\n",
       "      <td>4</td>\n",
       "      <td>4.0</td>\n",
       "      <td>4.5</td>\n",
       "      <td>8.87</td>\n",
       "      <td>1</td>\n",
       "      <td>0.76</td>\n",
       "      <td>False</td>\n",
       "      <td>False</td>\n",
       "      <td>False</td>\n",
       "      <td>True</td>\n",
       "      <td>False</td>\n",
       "    </tr>\n",
       "    <tr>\n",
       "      <th>2</th>\n",
       "      <td>316.0</td>\n",
       "      <td>104</td>\n",
       "      <td>3</td>\n",
       "      <td>3.0</td>\n",
       "      <td>3.5</td>\n",
       "      <td>8.00</td>\n",
       "      <td>1</td>\n",
       "      <td>0.72</td>\n",
       "      <td>False</td>\n",
       "      <td>False</td>\n",
       "      <td>True</td>\n",
       "      <td>False</td>\n",
       "      <td>False</td>\n",
       "    </tr>\n",
       "    <tr>\n",
       "      <th>3</th>\n",
       "      <td>322.0</td>\n",
       "      <td>110</td>\n",
       "      <td>3</td>\n",
       "      <td>3.5</td>\n",
       "      <td>2.5</td>\n",
       "      <td>8.67</td>\n",
       "      <td>1</td>\n",
       "      <td>0.80</td>\n",
       "      <td>False</td>\n",
       "      <td>False</td>\n",
       "      <td>True</td>\n",
       "      <td>False</td>\n",
       "      <td>False</td>\n",
       "    </tr>\n",
       "    <tr>\n",
       "      <th>4</th>\n",
       "      <td>314.0</td>\n",
       "      <td>103</td>\n",
       "      <td>2</td>\n",
       "      <td>2.0</td>\n",
       "      <td>3.0</td>\n",
       "      <td>8.21</td>\n",
       "      <td>0</td>\n",
       "      <td>0.65</td>\n",
       "      <td>False</td>\n",
       "      <td>True</td>\n",
       "      <td>False</td>\n",
       "      <td>False</td>\n",
       "      <td>False</td>\n",
       "    </tr>\n",
       "  </tbody>\n",
       "</table>\n",
       "</div>"
      ],
      "text/plain": [
       "   GRE_Score  TOEFL_Score  University_Rating  SOP  LOR  CGPA  Research  \\\n",
       "0      337.0          118                  4  4.5  4.5  9.65         1   \n",
       "1      324.0          107                  4  4.0  4.5  8.87         1   \n",
       "2      316.0          104                  3  3.0  3.5  8.00         1   \n",
       "3      322.0          110                  3  3.5  2.5  8.67         1   \n",
       "4      314.0          103                  2  2.0  3.0  8.21         0   \n",
       "\n",
       "   Chance_of_Admit   UR_1   UR_2   UR_3   UR_4   UR_5  \n",
       "0             0.92  False  False  False   True  False  \n",
       "1             0.76  False  False  False   True  False  \n",
       "2             0.72  False  False   True  False  False  \n",
       "3             0.80  False  False   True  False  False  \n",
       "4             0.65  False   True  False  False  False  "
      ]
     },
     "execution_count": 6,
     "metadata": {},
     "output_type": "execute_result"
    }
   ],
   "source": [
    "# 6 대학 평가 지수를 원 핫 인코딩하여 원본 데이터에 열 방향으로 합하고 앞 일부를 출력하는 코드 - prefix는 “UR”로 지정\n",
    "\n",
    "one_hot_encoded = pd.get_dummies(df['University_Rating'], prefix='UR')\n",
    "\n",
    "df = pd.concat([df, one_hot_encoded], axis=1)\n",
    "df.head()"
   ]
  },
  {
   "cell_type": "code",
   "execution_count": 7,
   "id": "960192bd-1a94-4007-8bf9-e10444ea871a",
   "metadata": {},
   "outputs": [
    {
     "name": "stdout",
     "output_type": "stream",
     "text": [
      "   GRE_Score  TOEFL_Score  University_Rating  SOP  LOR  CGPA  Research  \\\n",
      "0      337.0          118                  4  4.5  4.5  9.65         1   \n",
      "1      324.0          107                  4  4.0  4.5  8.87         1   \n",
      "2      316.0          104                  3  3.0  3.5  8.00         1   \n",
      "3      322.0          110                  3  3.5  2.5  8.67         1   \n",
      "4      314.0          103                  2  2.0  3.0  8.21         0   \n",
      "\n",
      "   Chance_of_Admit   UR_1   UR_2   UR_3   UR_4   UR_5   GRE     TOEFL  \n",
      "0             0.92  False  False  False   True  False  0.94  1.744786  \n",
      "1             0.76  False  False  False   True  False  0.68 -0.067551  \n",
      "2             0.72  False  False   True  False  False  0.52 -0.561824  \n",
      "3             0.80  False  False   True  False  False  0.64  0.426723  \n",
      "4             0.65  False   True  False  False  False  0.48 -0.726582  \n"
     ]
    }
   ],
   "source": [
    "# 7 대학원 입학 평가 시험 점수는 최솟값-최댓값 정규화하여 ‘GRE’열을 생성하고 TOEFL 점수는 z-스코어로 정규화하여 ‘TOEFL’열을 생성하여 앞 일부를 출력하는 코드\n",
    "\n",
    "# MinMaxScaler를 사용하여 GRE 점수 정규화\n",
    "from sklearn.preprocessing import MinMaxScaler\n",
    "\n",
    "scaler = MinMaxScaler()\n",
    "df['GRE'] = scaler.fit_transform(df[['GRE_Score']])\n",
    "\n",
    "# z-스코어 정규화를 직접 계산하여 TOEFL 점수 정규화\n",
    "toefl_mean = df['TOEFL_Score'].mean()\n",
    "toefl_std = df['TOEFL_Score'].std()\n",
    "df['TOEFL'] = (df['TOEFL_Score'] - toefl_mean) / toefl_std\n",
    "\n",
    "# 앞 일부 데이터 출력\n",
    "print(df[['GRE_Score', 'TOEFL_Score', 'University_Rating', 'SOP', 'LOR', 'CGPA', 'Research', \n",
    "          'Chance_of_Admit', 'UR_1', 'UR_2', 'UR_3', 'UR_4', 'UR_5', 'GRE', 'TOEFL']].head())"
   ]
  },
  {
   "cell_type": "code",
   "execution_count": 8,
   "id": "dd3f59a6-f7d7-4d04-a814-ac0dcc30952a",
   "metadata": {},
   "outputs": [
    {
     "name": "stdout",
     "output_type": "stream",
     "text": [
      "   admit_Bad  admit_NotBad  admit_Okay  admit_Good  admit_Great  \\\n",
      "0       True         False       False       False        False   \n",
      "1       True         False       False       False        False   \n",
      "2       True         False       False       False        False   \n",
      "3       True         False       False       False        False   \n",
      "4       True         False       False       False        False   \n",
      "\n",
      "   admit_Excellent  \n",
      "0            False  \n",
      "1            False  \n",
      "2            False  \n",
      "3            False  \n",
      "4            False  \n"
     ]
    }
   ],
   "source": [
    "# 8 「Ouput 데이터 만들기」 대학원 합격 확률을 아래 표처럼 구간을 나누어 범주형 데이터로 생성하고 앞 일부를 출력하는 코드\n",
    "\n",
    "# 대학원 합격 확률을 범주형 데이터로 변환\n",
    "df['admit_Bad'] = (df['Chance_of_Admit'] <= 7.5)\n",
    "df['admit_NotBad'] = ((df['Chance_of_Admit'] > 7.5) & (df['Chance_of_Admit'] <= 8.0))\n",
    "df['admit_Okay'] = ((df['Chance_of_Admit'] > 8.0) & (df['Chance_of_Admit'] <= 8.5))\n",
    "df['admit_Good'] = ((df['Chance_of_Admit'] > 8.5) & (df['Chance_of_Admit'] <= 9.0))\n",
    "df['admit_Great'] = ((df['Chance_of_Admit'] > 9.0) & (df['Chance_of_Admit'] <= 9.5))\n",
    "df['admit_Excellent'] = (df['Chance_of_Admit'] > 9.5)\n",
    "\n",
    "# 결과 출력\n",
    "print(df[['admit_Bad', 'admit_NotBad', 'admit_Okay', 'admit_Good', 'admit_Great', \n",
    "          'admit_Excellent']].head())\n"
   ]
  },
  {
   "cell_type": "code",
   "execution_count": 9,
   "id": "2b4cff0a-ceb7-4eca-9766-90cf542ce598",
   "metadata": {},
   "outputs": [],
   "source": [
    "# 9 「데이터 분리」 테스트 데이터는 전체 데이터의 25%로 사용하여 훈련 데이터와 테스트 데이터를 분리하는 코드\n",
    "# - 코드 분리 후, 넘파이 배열로 지정 후, “np.float32”로 데이터 타입 지정하는 것이 안정적\n",
    "\n",
    "from sklearn.model_selection import train_test_split\n",
    "import numpy as np\n",
    "\n",
    "# 특성 데이터와 타깃 데이터 분리\n",
    "X = df.drop(columns=['Chance_of_Admit'])\n",
    "y = df['Chance_of_Admit']\n",
    "\n",
    "# 데이터 분리\n",
    "X_train, X_test, y_train, y_test = train_test_split(X, y, test_size=0.25, random_state=42)\n",
    "\n",
    "# 데이터 타입 변환\n",
    "X_train = np.asarray(X_train).astype(np.float32) \n",
    "y_train = np.asarray(y_train).astype(np.float32) \n",
    "X_test = np.asarray(X_test).astype(np.float32) \n",
    "y_test = np.asarray(y_test).astype(np.float32)"
   ]
  },
  {
   "cell_type": "code",
   "execution_count": 28,
   "id": "e0eac411-9758-4f1a-ab2a-a09823004d79",
   "metadata": {},
   "outputs": [
    {
     "name": "stdout",
     "output_type": "stream",
     "text": [
      "Model: \"model\"\n",
      "_________________________________________________________________\n",
      " Layer (type)                Output Shape              Param #   \n",
      "=================================================================\n",
      " input_1 (InputLayer)        [(None, 20)]              0         \n",
      "                                                                 \n",
      " dense (Dense)               (None, 10)                210       \n",
      "                                                                 \n",
      " dense_1 (Dense)             (None, 8)                 88        \n",
      "                                                                 \n",
      " dense_2 (Dense)             (None, 6)                 54        \n",
      "                                                                 \n",
      "=================================================================\n",
      "Total params: 352\n",
      "Trainable params: 352\n",
      "Non-trainable params: 0\n",
      "_________________________________________________________________\n"
     ]
    }
   ],
   "source": [
    "# 10 「모델 생성」 그림 “머신러닝 지도 학습 구조”를 기반으로 모델 생성하여 summary함수 호출하는 코드\n",
    "\n",
    "from tensorflow.keras.models import Model\n",
    "from tensorflow.keras.layers import Input, Dense\n",
    "\n",
    "# 입력 특성의 수를 바로 모델의 입력층에 전달하여 모델 생성\n",
    "input_1 = Input(shape=(X_train.shape[1],), name='input_1')\n",
    "\n",
    "# 은닉층 및 출력층 정의\n",
    "hidden_layer1 = Dense(10, activation='relu', name='dense')(input_1)\n",
    "hidden_layer2 = Dense(8, activation='relu', name='dense_1')(hidden_layer1)\n",
    "output_layer = Dense(6, activation='relu', name='dense_2')(hidden_layer2)\n",
    "\n",
    "# 모델 정의\n",
    "model = Model(inputs=input_1, outputs=output_layer, name='model')\n",
    "\n",
    "# 모델 요약 출력\n",
    "model.summary()"
   ]
  },
  {
   "cell_type": "code",
   "execution_count": 41,
   "id": "12d081c9-9ae9-4b74-8bcc-d99fc16de427",
   "metadata": {},
   "outputs": [
    {
     "name": "stdout",
     "output_type": "stream",
     "text": [
      "Epoch 1/10\n",
      "5/5 [==============================] - 0s 20ms/step - loss: nan - acc: 0.0000e+00 - val_loss: nan - val_acc: 0.0000e+00\n",
      "Epoch 2/10\n",
      "5/5 [==============================] - 0s 4ms/step - loss: nan - acc: 0.0000e+00 - val_loss: nan - val_acc: 0.0000e+00\n",
      "Epoch 3/10\n",
      "5/5 [==============================] - 0s 4ms/step - loss: nan - acc: 0.0000e+00 - val_loss: nan - val_acc: 0.0000e+00\n",
      "Epoch 4/10\n",
      "5/5 [==============================] - 0s 4ms/step - loss: nan - acc: 0.0000e+00 - val_loss: nan - val_acc: 0.0000e+00\n",
      "Epoch 5/10\n",
      "5/5 [==============================] - 0s 5ms/step - loss: nan - acc: 0.0000e+00 - val_loss: nan - val_acc: 0.0000e+00\n",
      "Epoch 6/10\n",
      "5/5 [==============================] - 0s 4ms/step - loss: nan - acc: 0.0000e+00 - val_loss: nan - val_acc: 0.0000e+00\n",
      "Epoch 7/10\n",
      "5/5 [==============================] - 0s 4ms/step - loss: nan - acc: 0.0000e+00 - val_loss: nan - val_acc: 0.0000e+00\n",
      "Epoch 8/10\n",
      "5/5 [==============================] - 0s 5ms/step - loss: nan - acc: 0.0000e+00 - val_loss: nan - val_acc: 0.0000e+00\n",
      "Epoch 9/10\n",
      "5/5 [==============================] - 0s 4ms/step - loss: nan - acc: 0.0000e+00 - val_loss: nan - val_acc: 0.0000e+00\n",
      "Epoch 10/10\n",
      "5/5 [==============================] - 0s 4ms/step - loss: nan - acc: 0.0000e+00 - val_loss: nan - val_acc: 0.0000e+00\n"
     ]
    }
   ],
   "source": [
    "# 11 「학습」 배치 사이즈는 5, 에폭은 10으로 하여 학습 시키는 코드\n",
    "\n",
    "from tensorflow.keras.optimizers import legacy\n",
    "optimizer = legacy.Adam()\n",
    "\n",
    "# 모델 컴파일\n",
    "model.compile(optimizer=optimizer, loss='mse', metrics=['acc'])\n",
    "\n",
    "# 학습\n",
    "history = model.fit(X_train, y_train, batch_size=len(X_train)//5, epochs=10, validation_data=(X_test, y_test))\n"
   ]
  },
  {
   "cell_type": "code",
   "execution_count": 74,
   "id": "c2934fbc-8ae8-48ba-88da-80811b1777f7",
   "metadata": {},
   "outputs": [
    {
     "name": "stdout",
     "output_type": "stream",
     "text": [
      "Test Loss: nan\n",
      "Test Accuracy: 0.0\n"
     ]
    }
   ],
   "source": [
    "# 12 「평가」 Loss율과 정확도를 보여주는 코드\n",
    "\n",
    "# 테스트 데이터에 대한 Loss와 정확도 계산\n",
    "test_loss, test_accuracy = model.evaluate(X_test, y_test, verbose=0)\n",
    "\n",
    "print(\"Test Loss:\", test_loss)\n",
    "print(\"Test Accuracy:\", test_accuracy)"
   ]
  }
 ],
 "metadata": {
  "kernelspec": {
   "display_name": "Python 3 (ipykernel)",
   "language": "python",
   "name": "python3"
  },
  "language_info": {
   "codemirror_mode": {
    "name": "ipython",
    "version": 3
   },
   "file_extension": ".py",
   "mimetype": "text/x-python",
   "name": "python",
   "nbconvert_exporter": "python",
   "pygments_lexer": "ipython3",
   "version": "3.11.5"
  }
 },
 "nbformat": 4,
 "nbformat_minor": 5
}
