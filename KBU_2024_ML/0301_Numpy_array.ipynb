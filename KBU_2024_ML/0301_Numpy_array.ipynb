{
 "cells": [
  {
   "cell_type": "markdown",
   "id": "2a32a3bd-3513-4ba6-b07c-4499e2db73ca",
   "metadata": {},
   "source": [
    "# 03_Numpy_1_array"
   ]
  },
  {
   "cell_type": "markdown",
   "id": "3d26f91f-00a6-48ef-97b7-538bc1219ce1",
   "metadata": {},
   "source": [
    "## 배열 생성 코드"
   ]
  },
  {
   "cell_type": "markdown",
   "id": "90419c12-1b6e-44a0-9243-900b551b43e4",
   "metadata": {},
   "source": [
    "#### 리스트 형식의 2차 배열 tmp 형식지정자 그대로 배열 출력"
   ]
  },
  {
   "cell_type": "code",
   "execution_count": 1,
   "id": "60ba916a-9892-4e46-adad-4f4b5c771d6a",
   "metadata": {},
   "outputs": [
    {
     "data": {
      "text/plain": [
       "array([[ 1,  4,  5,  8],\n",
       "       [21, 23, 15, 11]])"
      ]
     },
     "execution_count": 1,
     "metadata": {},
     "output_type": "execute_result"
    }
   ],
   "source": [
    "import numpy as np\n",
    "\n",
    "tmp = [[1,4,5,8],[21,23,15,11]] # 리스트 형식의 2차 배열 tmp\n",
    "np.array(tmp)"
   ]
  },
  {
   "cell_type": "code",
   "execution_count": 2,
   "id": "b033cf63-2e49-4784-a143-76e921143446",
   "metadata": {},
   "outputs": [
    {
     "name": "stdout",
     "output_type": "stream",
     "text": [
      "<class 'list'>\n",
      "<class 'int'>\n"
     ]
    }
   ],
   "source": [
    "print(type(tmp))\n",
    "print(type(tmp[1][3]))"
   ]
  },
  {
   "cell_type": "markdown",
   "id": "83af50a9-b4cf-47ae-aa5f-e97e77e0f227",
   "metadata": {},
   "source": [
    "#### tmp를 float로 바꾼 fl_tmp 배열 출력"
   ]
  },
  {
   "cell_type": "code",
   "execution_count": 3,
   "id": "6c77609f-84e9-43ae-bfa8-e30a13b0f00a",
   "metadata": {},
   "outputs": [
    {
     "data": {
      "text/plain": [
       "array([[ 1.,  4.,  5.,  8.],\n",
       "       [21., 23., 15., 11.]])"
      ]
     },
     "execution_count": 3,
     "metadata": {},
     "output_type": "execute_result"
    }
   ],
   "source": [
    "fl_tmp = np.array(tmp, float) # float로 변한하여 배열 출력\n",
    "fl_tmp"
   ]
  },
  {
   "cell_type": "code",
   "execution_count": 4,
   "id": "f1c8834c-bd0b-4d56-9d3f-1e5b560efddd",
   "metadata": {},
   "outputs": [
    {
     "name": "stdout",
     "output_type": "stream",
     "text": [
      "<class 'numpy.ndarray'>\n",
      "<class 'numpy.float64'>\n"
     ]
    }
   ],
   "source": [
    "print(type(fl_tmp))\n",
    "print(type(fl_tmp[1][3]))"
   ]
  },
  {
   "cell_type": "markdown",
   "id": "e69e4684-f8e2-4046-af4a-843848db9ecd",
   "metadata": {},
   "source": [
    "## 넘파이 배열 데이터 구조"
   ]
  },
  {
   "cell_type": "code",
   "execution_count": 5,
   "id": "b67443ff-637b-4cbc-91ae-c7a52b652435",
   "metadata": {},
   "outputs": [
    {
     "name": "stdout",
     "output_type": "stream",
     "text": [
      "[[0 1 2]\n",
      " [3 4 5]\n",
      " [6 7 8]]\n"
     ]
    }
   ],
   "source": [
    "test_array = np.array([[0,1,2],[3,4,5],[6,7,8]])\n",
    "print(test_array)"
   ]
  },
  {
   "cell_type": "code",
   "execution_count": 6,
   "id": "042de2b8-e40d-4dbf-9b7d-ae93b79e8132",
   "metadata": {},
   "outputs": [
    {
     "name": "stdout",
     "output_type": "stream",
     "text": [
      "int64\n",
      "2\n",
      "(3, 3)\n",
      "(24, 8)\n"
     ]
    }
   ],
   "source": [
    "print(test_array.dtype)\n",
    "print(test_array.ndim)\n",
    "print(test_array.shape)\n",
    "print(test_array.strides)"
   ]
  },
  {
   "cell_type": "markdown",
   "id": "df4db407-ac6a-4f35-a082-e35662c892df",
   "metadata": {},
   "source": [
    "## 벡터 (1차원 배열)"
   ]
  },
  {
   "cell_type": "code",
   "execution_count": 7,
   "id": "5fc1d11c-0be2-4aab-a7a0-f576f3585205",
   "metadata": {},
   "outputs": [
    {
     "data": {
      "text/plain": [
       "array([1., 4., 5., 8.])"
      ]
     },
     "execution_count": 7,
     "metadata": {},
     "output_type": "execute_result"
    }
   ],
   "source": [
    "vector = np.array([1, 4, 5, \"8\"], float) # 형식 섞여도 괜찮다!\n",
    "vector"
   ]
  },
  {
   "cell_type": "code",
   "execution_count": 8,
   "id": "2ae0af5e-be51-45c7-af98-04a78485b69a",
   "metadata": {},
   "outputs": [
    {
     "name": "stdout",
     "output_type": "stream",
     "text": [
      "float64\n",
      "1\n",
      "(4,)\n",
      "(8,)\n"
     ]
    }
   ],
   "source": [
    "print(vector.dtype)\n",
    "print(vector.ndim)\n",
    "print(vector.shape)\n",
    "print(vector.strides)"
   ]
  },
  {
   "cell_type": "markdown",
   "id": "962efb55-1142-426a-852f-775254c74a95",
   "metadata": {},
   "source": [
    "## 매트릭스 (2차원 배열)"
   ]
  },
  {
   "cell_type": "code",
   "execution_count": 9,
   "id": "26023e51-a1f1-4b41-acf0-52b92b610a13",
   "metadata": {},
   "outputs": [
    {
     "data": {
      "text/plain": [
       "array([[1, 2, 5, 8],\n",
       "       [1, 2, 5, 8],\n",
       "       [1, 2, 5, 8]])"
      ]
     },
     "execution_count": 9,
     "metadata": {},
     "output_type": "execute_result"
    }
   ],
   "source": [
    "matrix = np.array([[1,2,5,8], [1,2,5,8], [1,2,5,8]])\n",
    "matrix"
   ]
  },
  {
   "cell_type": "code",
   "execution_count": 10,
   "id": "b63a13ae-d885-4f13-a803-314d0c503fac",
   "metadata": {},
   "outputs": [
    {
     "name": "stdout",
     "output_type": "stream",
     "text": [
      "int64\n",
      "2\n",
      "(3, 4)\n",
      "(32, 8)\n"
     ]
    }
   ],
   "source": [
    "print(matrix.dtype)\n",
    "print(matrix.ndim)\n",
    "print(matrix.shape)\n",
    "print(matrix.strides)"
   ]
  },
  {
   "cell_type": "code",
   "execution_count": 11,
   "id": "4ce4c791-6dd8-4740-85e8-5be28b1916bb",
   "metadata": {},
   "outputs": [
    {
     "name": "stdout",
     "output_type": "stream",
     "text": [
      "<class 'numpy.int64'>\n"
     ]
    }
   ],
   "source": [
    "print(type(matrix[1][3]))"
   ]
  },
  {
   "cell_type": "markdown",
   "id": "e605206a-d5bf-4809-bea6-5c8e0cfeab07",
   "metadata": {},
   "source": [
    "## 텐서 (3차원 배열)"
   ]
  },
  {
   "cell_type": "code",
   "execution_count": 12,
   "id": "fbeea1de-9eec-48ea-ab2a-f0d83c9e9a0d",
   "metadata": {},
   "outputs": [
    {
     "data": {
      "text/plain": [
       "[[[1, 2, 5, 8], [1, 2, 5, 8], [1, 2, 5, 8]],\n",
       " [[1, 2, 5, 8], [1, 2, 5, 8], [1, 2, 5, 8]],\n",
       " [[1, 2, 5, 8], [1, 2, 5, 8], [1, 2, 5, 8]]]"
      ]
     },
     "execution_count": 12,
     "metadata": {},
     "output_type": "execute_result"
    }
   ],
   "source": [
    "tensor_rank3 = [\n",
    "    [[1,2,5,8], [1,2,5,8], [1,2,5,8]],\n",
    "    [[1,2,5,8], [1,2,5,8], [1,2,5,8]],\n",
    "    [[1,2,5,8], [1,2,5,8], [1,2,5,8]]\n",
    "]\n",
    "\n",
    "tensor_rank3"
   ]
  },
  {
   "cell_type": "code",
   "execution_count": 13,
   "id": "7791e964-b8e3-4939-ae18-c0e56566a847",
   "metadata": {},
   "outputs": [
    {
     "data": {
      "text/plain": [
       "array([[[1, 2, 5, 8],\n",
       "        [1, 2, 5, 8],\n",
       "        [1, 2, 5, 8]],\n",
       "\n",
       "       [[1, 2, 5, 8],\n",
       "        [1, 2, 5, 8],\n",
       "        [1, 2, 5, 8]],\n",
       "\n",
       "       [[1, 2, 5, 8],\n",
       "        [1, 2, 5, 8],\n",
       "        [1, 2, 5, 8]]])"
      ]
     },
     "execution_count": 13,
     "metadata": {},
     "output_type": "execute_result"
    }
   ],
   "source": [
    "tensor_rank3 = np.array(tensor_rank3, int)\n",
    "tensor_rank3"
   ]
  },
  {
   "cell_type": "code",
   "execution_count": 14,
   "id": "3cbef8a4-1f67-47ce-9653-5d75146be1ce",
   "metadata": {},
   "outputs": [
    {
     "name": "stdout",
     "output_type": "stream",
     "text": [
      "int64\n",
      "3\n",
      "(3, 3, 4)\n",
      "(96, 32, 8)\n"
     ]
    }
   ],
   "source": [
    "print(tensor_rank3.dtype)\n",
    "print(tensor_rank3.ndim)\n",
    "print(tensor_rank3.shape)\n",
    "print(tensor_rank3.strides)"
   ]
  },
  {
   "cell_type": "markdown",
   "id": "4b0e2fb2-bce2-4992-a9dd-8cc669f8e0a0",
   "metadata": {},
   "source": [
    "## 이 외 정보"
   ]
  },
  {
   "cell_type": "markdown",
   "id": "f9e7db6d-22fa-4c22-9fbd-c762b535c007",
   "metadata": {},
   "source": [
    "#### 원소 개수 (변수.size)"
   ]
  },
  {
   "cell_type": "code",
   "execution_count": 15,
   "id": "65206c54-653c-4749-8562-d983f079ba97",
   "metadata": {},
   "outputs": [
    {
     "name": "stdout",
     "output_type": "stream",
     "text": [
      "4\n",
      "12\n",
      "36\n"
     ]
    }
   ],
   "source": [
    "print(vector.size)\n",
    "print(matrix.size)\n",
    "print(tensor_rank3.size)"
   ]
  },
  {
   "cell_type": "markdown",
   "id": "0c4dc65d-d86e-4254-a63e-048fa59e71b1",
   "metadata": {},
   "source": [
    "#### 원소의 크기(byte) (변수.itemsize)"
   ]
  },
  {
   "cell_type": "code",
   "execution_count": 16,
   "id": "3d44a265-c66f-4c43-9e4b-a755d0653470",
   "metadata": {},
   "outputs": [
    {
     "name": "stdout",
     "output_type": "stream",
     "text": [
      "8\n",
      "8\n",
      "8\n"
     ]
    }
   ],
   "source": [
    "print(vector.itemsize)\n",
    "print(matrix.itemsize)\n",
    "print(tensor_rank3.itemsize)"
   ]
  }
 ],
 "metadata": {
  "kernelspec": {
   "display_name": "Python 3 (ipykernel)",
   "language": "python",
   "name": "python3"
  },
  "language_info": {
   "codemirror_mode": {
    "name": "ipython",
    "version": 3
   },
   "file_extension": ".py",
   "mimetype": "text/x-python",
   "name": "python",
   "nbconvert_exporter": "python",
   "pygments_lexer": "ipython3",
   "version": "3.11.5"
  }
 },
 "nbformat": 4,
 "nbformat_minor": 5
}
