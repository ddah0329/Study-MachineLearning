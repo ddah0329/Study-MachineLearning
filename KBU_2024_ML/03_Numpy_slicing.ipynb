{
 "cells": [
  {
   "cell_type": "markdown",
   "id": "0bc9dd27-0e3b-4298-a87b-93dd43e0143e",
   "metadata": {},
   "source": [
    "# 03_Numpy_slicing"
   ]
  },
  {
   "cell_type": "code",
   "execution_count": 1,
   "id": "a29eb661-c480-4ead-82f8-ffec63fb1757",
   "metadata": {},
   "outputs": [
    {
     "data": {
      "text/plain": [
       "array([[ 1,  2,  3,  4,  5],\n",
       "       [ 6,  7,  8,  9, 10]])"
      ]
     },
     "execution_count": 1,
     "metadata": {},
     "output_type": "execute_result"
    }
   ],
   "source": [
    "import numpy as np\n",
    "\n",
    "x = np.array([[1,2,3,4,5], [6,7,8,9,10]], int)\n",
    "x"
   ]
  },
  {
   "cell_type": "code",
   "execution_count": 2,
   "id": "46da6692-3f59-4f16-bd1d-f747f1d3eea9",
   "metadata": {},
   "outputs": [
    {
     "data": {
      "text/plain": [
       "array([[ 3,  4,  5],\n",
       "       [ 8,  9, 10]])"
      ]
     },
     "execution_count": 2,
     "metadata": {},
     "output_type": "execute_result"
    }
   ],
   "source": [
    "x[:, 2:] # 모든 행에서 열 3번째부터 끝까지"
   ]
  },
  {
   "cell_type": "code",
   "execution_count": 3,
   "id": "ad222ead-721f-45d0-be7b-de4eb216e669",
   "metadata": {},
   "outputs": [
    {
     "data": {
      "text/plain": [
       "array([7, 8])"
      ]
     },
     "execution_count": 3,
     "metadata": {},
     "output_type": "execute_result"
    }
   ],
   "source": [
    "x[1, 1:3] # 1행에서, 열 1:3까지"
   ]
  },
  {
   "cell_type": "code",
   "execution_count": 4,
   "id": "927e36d4-52e1-49f3-a589-394f5cdcbcfb",
   "metadata": {},
   "outputs": [
    {
     "data": {
      "text/plain": [
       "array([[ 6,  7,  8,  9, 10]])"
      ]
     },
     "execution_count": 4,
     "metadata": {},
     "output_type": "execute_result"
    }
   ],
   "source": [
    "x[1:3] # 행 선택만"
   ]
  }
 ],
 "metadata": {
  "kernelspec": {
   "display_name": "Python 3 (ipykernel)",
   "language": "python",
   "name": "python3"
  },
  "language_info": {
   "codemirror_mode": {
    "name": "ipython",
    "version": 3
   },
   "file_extension": ".py",
   "mimetype": "text/x-python",
   "name": "python",
   "nbconvert_exporter": "python",
   "pygments_lexer": "ipython3",
   "version": "3.11.5"
  }
 },
 "nbformat": 4,
 "nbformat_minor": 5
}
