{
 "cells": [
  {
   "cell_type": "markdown",
   "id": "103c2f15-5585-4bf5-8272-d1e2bb7286ec",
   "metadata": {},
   "source": [
    "# 03_Numpy_arange"
   ]
  },
  {
   "cell_type": "markdown",
   "id": "a0f03051-4251-4116-a4d5-fba47955b43f",
   "metadata": {},
   "source": [
    "#### range 함수와 동일하게 시작 값 ~ 마지막 값까지 차례대로 생성\n",
    "#### 형식 (시작 인덱스, 마지막 인덱스, 증가값)\n",
    "#### 소수점 값, 실수형, 음수값 모두 가능"
   ]
  },
  {
   "cell_type": "code",
   "execution_count": 4,
   "id": "04ea011b-7766-4fae-8986-52d28694599b",
   "metadata": {},
   "outputs": [
    {
     "data": {
      "text/plain": [
       "array([0, 1, 2, 3, 4, 5, 6, 7])"
      ]
     },
     "execution_count": 4,
     "metadata": {},
     "output_type": "execute_result"
    }
   ],
   "source": [
    "import numpy as np\n",
    "\n",
    "np.arange(8)"
   ]
  },
  {
   "cell_type": "code",
   "execution_count": 5,
   "id": "0348e24d-4dd7-472d-b25b-912b43305e62",
   "metadata": {},
   "outputs": [
    {
     "data": {
      "text/plain": [
       "array([-5, -4, -3, -2, -1,  0,  1,  2,  3,  4])"
      ]
     },
     "execution_count": 5,
     "metadata": {},
     "output_type": "execute_result"
    }
   ],
   "source": [
    "np.arange(-5, 5)"
   ]
  },
  {
   "cell_type": "code",
   "execution_count": 7,
   "id": "ce80a69f-e8b8-4396-a9cf-aec3285feb0b",
   "metadata": {},
   "outputs": [
    {
     "data": {
      "text/plain": [
       "array([0. , 0.5, 1. , 1.5, 2. , 2.5, 3. , 3.5, 4. , 4.5])"
      ]
     },
     "execution_count": 7,
     "metadata": {},
     "output_type": "execute_result"
    }
   ],
   "source": [
    "np.arange(0, 5, 0.5)"
   ]
  }
 ],
 "metadata": {
  "kernelspec": {
   "display_name": "Python 3 (ipykernel)",
   "language": "python",
   "name": "python3"
  },
  "language_info": {
   "codemirror_mode": {
    "name": "ipython",
    "version": 3
   },
   "file_extension": ".py",
   "mimetype": "text/x-python",
   "name": "python",
   "nbconvert_exporter": "python",
   "pygments_lexer": "ipython3",
   "version": "3.11.5"
  }
 },
 "nbformat": 4,
 "nbformat_minor": 5
}
