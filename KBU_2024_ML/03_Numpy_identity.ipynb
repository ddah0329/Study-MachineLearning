{
 "cells": [
  {
   "cell_type": "markdown",
   "id": "2a32a3bd-3513-4ba6-b07c-4499e2db73ca",
   "metadata": {},
   "source": [
    "# 03_Numpy_identity"
   ]
  },
  {
   "cell_type": "markdown",
   "id": "90419c12-1b6e-44a0-9243-900b551b43e4",
   "metadata": {},
   "source": [
    "#### 매개변수 n으로 n*n 단위행렬을 생성"
   ]
  },
  {
   "cell_type": "code",
   "execution_count": 1,
   "id": "af61e2d4-451a-4fa1-8892-57580c57e250",
   "metadata": {},
   "outputs": [
    {
     "data": {
      "text/plain": [
       "array([[1, 0, 0],\n",
       "       [0, 1, 0],\n",
       "       [0, 0, 1]])"
      ]
     },
     "execution_count": 1,
     "metadata": {},
     "output_type": "execute_result"
    }
   ],
   "source": [
    "import numpy as np\n",
    "\n",
    "np.identity(n=3, dtype=int)"
   ]
  },
  {
   "cell_type": "code",
   "execution_count": 2,
   "id": "7cc939a2-3cce-458a-a368-2450a3cb0737",
   "metadata": {},
   "outputs": [
    {
     "data": {
      "text/plain": [
       "array([[1, 0, 0, 0],\n",
       "       [0, 1, 0, 0],\n",
       "       [0, 0, 1, 0],\n",
       "       [0, 0, 0, 1]])"
      ]
     },
     "execution_count": 2,
     "metadata": {},
     "output_type": "execute_result"
    }
   ],
   "source": [
    "np.identity(n=4, dtype=int)"
   ]
  }
 ],
 "metadata": {
  "kernelspec": {
   "display_name": "Python 3 (ipykernel)",
   "language": "python",
   "name": "python3"
  },
  "language_info": {
   "codemirror_mode": {
    "name": "ipython",
    "version": 3
   },
   "file_extension": ".py",
   "mimetype": "text/x-python",
   "name": "python",
   "nbconvert_exporter": "python",
   "pygments_lexer": "ipython3",
   "version": "3.11.5"
  }
 },
 "nbformat": 4,
 "nbformat_minor": 5
}
