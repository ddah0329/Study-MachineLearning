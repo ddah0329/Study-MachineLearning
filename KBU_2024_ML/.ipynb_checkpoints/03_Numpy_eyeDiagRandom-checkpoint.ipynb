{
 "cells": [
  {
   "cell_type": "markdown",
   "id": "2a32a3bd-3513-4ba6-b07c-4499e2db73ca",
   "metadata": {},
   "source": [
    "# 03_Numpy_eyeDiagRandom"
   ]
  },
  {
   "cell_type": "markdown",
   "id": "90419c12-1b6e-44a0-9243-900b551b43e4",
   "metadata": {},
   "source": [
    "## \beye() : 시작점과 행렬 크기를 지정, 단위행렬 생성\n",
    "#### N: 행의 개수, M: 열의 개수, k: 열의 값을 기준으로 시작 인덱스"
   ]
  },
  {
   "cell_type": "code",
   "execution_count": 1,
   "id": "af61e2d4-451a-4fa1-8892-57580c57e250",
   "metadata": {},
   "outputs": [
    {
     "data": {
      "text/plain": [
       "array([[1., 0., 0., 0., 0.],\n",
       "       [0., 1., 0., 0., 0.],\n",
       "       [0., 0., 1., 0., 0.]])"
      ]
     },
     "execution_count": 1,
     "metadata": {},
     "output_type": "execute_result"
    }
   ],
   "source": [
    "import numpy as np\n",
    "\n",
    "np.eye(N=3, M=5)"
   ]
  },
  {
   "cell_type": "code",
   "execution_count": 2,
   "id": "7cc939a2-3cce-458a-a368-2450a3cb0737",
   "metadata": {},
   "outputs": [
    {
     "data": {
      "text/plain": [
       "array([[0., 0., 1., 0., 0.],\n",
       "       [0., 0., 0., 1., 0.],\n",
       "       [0., 0., 0., 0., 1.]])"
      ]
     },
     "execution_count": 2,
     "metadata": {},
     "output_type": "execute_result"
    }
   ],
   "source": [
    "np.eye(N=3, M=5, k=2)"
   ]
  },
  {
   "cell_type": "markdown",
   "id": "f26cea06-acdc-44c7-b873-6955b1b0eb34",
   "metadata": {},
   "source": [
    "## \bdiag(): 행렬의 대각성분 값을 추출"
   ]
  },
  {
   "cell_type": "code",
   "execution_count": 3,
   "id": "d56fb559-acce-4704-bfef-fb3a7ad4bb7b",
   "metadata": {},
   "outputs": [
    {
     "data": {
      "text/plain": [
       "array([[0, 1, 2],\n",
       "       [3, 4, 5],\n",
       "       [6, 7, 8]])"
      ]
     },
     "execution_count": 3,
     "metadata": {},
     "output_type": "execute_result"
    }
   ],
   "source": [
    "matrix = np.arange(9).reshape(3,3)\n",
    "matrix"
   ]
  },
  {
   "cell_type": "code",
   "execution_count": 4,
   "id": "7f24ee0e-4dfe-460e-b89d-e23c1eea6b3e",
   "metadata": {},
   "outputs": [
    {
     "data": {
      "text/plain": [
       "array([0, 4, 8])"
      ]
     },
     "execution_count": 4,
     "metadata": {},
     "output_type": "execute_result"
    }
   ],
   "source": [
    "np.diag(matrix) #default k=0"
   ]
  },
  {
   "cell_type": "code",
   "execution_count": 5,
   "id": "5a569cf9-14f6-4c3d-ba16-0bad8b7675ae",
   "metadata": {},
   "outputs": [
    {
     "data": {
      "text/plain": [
       "array([1, 5])"
      ]
     },
     "execution_count": 5,
     "metadata": {},
     "output_type": "execute_result"
    }
   ],
   "source": [
    "np.diag(matrix, k=1)"
   ]
  },
  {
   "cell_type": "markdown",
   "id": "44798710-3d7b-4f6d-ae15-8630817ad0ac",
   "metadata": {},
   "source": [
    "## \buniform(): 균등분포 함수"
   ]
  },
  {
   "cell_type": "code",
   "execution_count": 6,
   "id": "e171f0c3-ec64-4a72-8cca-0d1250be40c1",
   "metadata": {},
   "outputs": [
    {
     "data": {
      "text/plain": [
       "array([4.52671255, 3.18195706, 2.19202542, 4.98235539, 1.17385789,\n",
       "       3.71349011, 1.51126889, 1.33091682, 3.60680636, 3.29623424])"
      ]
     },
     "execution_count": 6,
     "metadata": {},
     "output_type": "execute_result"
    }
   ],
   "source": [
    "# np.random.uniform(시작값, 끝값, 데이터개수)\n",
    "np.random.uniform(0, 5, 10)"
   ]
  },
  {
   "cell_type": "markdown",
   "id": "21e238e8-715a-454c-9f07-e73d6aed9301",
   "metadata": {},
   "source": [
    "## \bnormal(): 정규분포 함수"
   ]
  },
  {
   "cell_type": "code",
   "execution_count": 7,
   "id": "733af9f8-0d2e-4555-8c11-66ad0e4318cf",
   "metadata": {},
   "outputs": [
    {
     "data": {
      "text/plain": [
       "array([ 1.92397265, -3.8214379 , -0.63531052,  4.56171458,  1.65289793,\n",
       "       -2.21550818, -0.96075068,  0.64096568, -2.33594114,  3.03202229])"
      ]
     },
     "execution_count": 7,
     "metadata": {},
     "output_type": "execute_result"
    }
   ],
   "source": [
    "# np.random.normal(평균값, 분산, 데이터개수)\n",
    "np.random.normal(0, 2, 10)"
   ]
  }
 ],
 "metadata": {
  "kernelspec": {
   "display_name": "Python 3 (ipykernel)",
   "language": "python",
   "name": "python3"
  },
  "language_info": {
   "codemirror_mode": {
    "name": "ipython",
    "version": 3
   },
   "file_extension": ".py",
   "mimetype": "text/x-python",
   "name": "python",
   "nbconvert_exporter": "python",
   "pygments_lexer": "ipython3",
   "version": "3.11.5"
  }
 },
 "nbformat": 4,
 "nbformat_minor": 5
}
