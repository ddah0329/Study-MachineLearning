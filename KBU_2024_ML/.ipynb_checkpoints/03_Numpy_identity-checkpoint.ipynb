{
 "cells": [
  {
   "cell_type": "markdown",
   "id": "2a32a3bd-3513-4ba6-b07c-4499e2db73ca",
   "metadata": {},
   "source": [
    "# 03_Numpy_onesZerosEmpty"
   ]
  },
  {
   "cell_type": "markdown",
   "id": "90419c12-1b6e-44a0-9243-900b551b43e4",
   "metadata": {},
   "source": [
    "### ones() : 1로만 구성된 넘파이 배열"
   ]
  },
  {
   "cell_type": "code",
   "execution_count": 1,
   "id": "af61e2d4-451a-4fa1-8892-57580c57e250",
   "metadata": {},
   "outputs": [
    {
     "data": {
      "text/plain": [
       "array([[1, 1],\n",
       "       [1, 1],\n",
       "       [1, 1],\n",
       "       [1, 1],\n",
       "       [1, 1]], dtype=int8)"
      ]
     },
     "execution_count": 1,
     "metadata": {},
     "output_type": "execute_result"
    }
   ],
   "source": [
    "import numpy as np\n",
    "\n",
    "np.ones(shape=(5,2), dtype = np.int8) # 5개 가로 행에 2개의 세로 줄"
   ]
  },
  {
   "cell_type": "markdown",
   "id": "0c4dc65d-d86e-4254-a63e-048fa59e71b1",
   "metadata": {},
   "source": [
    "### zeros() : 0으로만 구성된 넘파이 배열"
   ]
  },
  {
   "cell_type": "code",
   "execution_count": 2,
   "id": "7cc939a2-3cce-458a-a368-2450a3cb0737",
   "metadata": {},
   "outputs": [
    {
     "data": {
      "text/plain": [
       "array([[0., 0.],\n",
       "       [0., 0.]], dtype=float32)"
      ]
     },
     "execution_count": 2,
     "metadata": {},
     "output_type": "execute_result"
    }
   ],
   "source": [
    "np.zeros(shape = (2,2), dtype = np.float32)"
   ]
  },
  {
   "cell_type": "markdown",
   "id": "e69e4684-f8e2-4046-af4a-843848db9ecd",
   "metadata": {},
   "source": [
    "### empty() : 활용 가능한 메모리 공간 확보하여 반환"
   ]
  },
  {
   "cell_type": "code",
   "execution_count": 3,
   "id": "bdc5daf9-3677-4f35-b198-77bba12c75dc",
   "metadata": {},
   "outputs": [
    {
     "data": {
      "text/plain": [
       "array([[0., 0., 0., 0.],\n",
       "       [0., 0., 0., 0.]], dtype=float32)"
      ]
     },
     "execution_count": 3,
     "metadata": {},
     "output_type": "execute_result"
    }
   ],
   "source": [
    "np.empty(shape = (2,4), dtype = np.float32)"
   ]
  },
  {
   "cell_type": "markdown",
   "id": "029d13cd-ccb5-472a-8f8f-746513d2d4a2",
   "metadata": {},
   "source": [
    "#### 생성 시점에서 dtype을 지정해주면 해당 데이터 타입으로 배열 생성"
   ]
  }
 ],
 "metadata": {
  "kernelspec": {
   "display_name": "Python 3 (ipykernel)",
   "language": "python",
   "name": "python3"
  },
  "language_info": {
   "codemirror_mode": {
    "name": "ipython",
    "version": 3
   },
   "file_extension": ".py",
   "mimetype": "text/x-python",
   "name": "python",
   "nbconvert_exporter": "python",
   "pygments_lexer": "ipython3",
   "version": "3.11.5"
  }
 },
 "nbformat": 4,
 "nbformat_minor": 5
}
