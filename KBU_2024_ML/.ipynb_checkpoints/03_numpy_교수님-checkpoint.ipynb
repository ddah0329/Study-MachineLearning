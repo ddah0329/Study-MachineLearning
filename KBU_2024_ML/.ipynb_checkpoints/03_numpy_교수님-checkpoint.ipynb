{
  "nbformat": 4,
  "nbformat_minor": 0,
  "metadata": {
    "colab": {
      "provenance": []
    },
    "kernelspec": {
      "name": "python3",
      "display_name": "Python 3"
    },
    "language_info": {
      "name": "python"
    }
  },
  "cells": [
    {
      "cell_type": "code",
      "source": [
        "import numpy as np\n",
        "\n",
        "test_list = [[1,4,5,8],[1,4,5,122]] #파이썬 기본 배열\n",
        "npArr = np.array(test_list)\n",
        "print(npArr)"
      ],
      "metadata": {
        "colab": {
          "base_uri": "https://localhost:8080/"
        },
        "id": "TYrHse02mTQA",
        "outputId": "326672c7-8b46-4662-c768-becaa89f6f0f"
      },
      "execution_count": 1,
      "outputs": [
        {
          "output_type": "stream",
          "name": "stdout",
          "text": [
            "[[  1   4   5   8]\n",
            " [  1   4   5 122]]\n"
          ]
        }
      ]
    },
    {
      "cell_type": "code",
      "source": [
        "print(type(test_list))\n",
        "print(type(test_list[1][3]))\n",
        "\n",
        "print(type(npArr[0]))\n",
        "print(type(npArr[1][3]))"
      ],
      "metadata": {
        "colab": {
          "base_uri": "https://localhost:8080/"
        },
        "id": "nBqC3N7_nA3Z",
        "outputId": "5716dc3f-91ca-4ac7-c4f8-27bce1dd8215"
      },
      "execution_count": 2,
      "outputs": [
        {
          "output_type": "stream",
          "name": "stdout",
          "text": [
            "<class 'list'>\n",
            "<class 'int'>\n",
            "<class 'numpy.ndarray'>\n",
            "<class 'numpy.int64'>\n"
          ]
        }
      ]
    },
    {
      "cell_type": "code",
      "source": [
        "test_array = np.array([[0,1,2], [3,4,5], [6,7,8]])\n",
        "print(test_array)"
      ],
      "metadata": {
        "colab": {
          "base_uri": "https://localhost:8080/"
        },
        "id": "CRw20FFffy6_",
        "outputId": "4ca0bc1c-788d-4397-a845-0d324c7f37fc"
      },
      "execution_count": 3,
      "outputs": [
        {
          "output_type": "stream",
          "name": "stdout",
          "text": [
            "[[0 1 2]\n",
            " [3 4 5]\n",
            " [6 7 8]]\n"
          ]
        }
      ]
    },
    {
      "cell_type": "code",
      "source": [
        "print(test_array.dtype)\n",
        "\n",
        "# 몇차원이다\n",
        "print(test_array.ndim)\n",
        "\n",
        "# 모양 : 데이터 구조 : 3개의 그룹으로 되어있는데 각 그룹에 3개의 데이터가 있다.\n",
        "print(test_array.shape)\n",
        "\n",
        "# 그룹의 크기\n",
        "print(test_array.strides)"
      ],
      "metadata": {
        "colab": {
          "base_uri": "https://localhost:8080/"
        },
        "id": "Nl0M6rShf74g",
        "outputId": "6649817d-c406-4966-b38c-7d1fdbd7dae3"
      },
      "execution_count": 4,
      "outputs": [
        {
          "output_type": "stream",
          "name": "stdout",
          "text": [
            "int64\n",
            "2\n",
            "(3, 3)\n",
            "(24, 8)\n"
          ]
        }
      ]
    },
    {
      "cell_type": "code",
      "source": [
        "x = np.array([[1, 2, 5, 8], [1, 2, 5, 8]])\n",
        "x"
      ],
      "metadata": {
        "colab": {
          "base_uri": "https://localhost:8080/"
        },
        "id": "cyRbbRmwja7O",
        "outputId": "00d85af2-7adc-4a44-c042-323098078e59"
      },
      "execution_count": 5,
      "outputs": [
        {
          "output_type": "execute_result",
          "data": {
            "text/plain": [
              "array([[1, 2, 5, 8],\n",
              "       [1, 2, 5, 8]])"
            ]
          },
          "metadata": {},
          "execution_count": 5
        }
      ]
    },
    {
      "cell_type": "code",
      "source": [
        "x.reshape(-1,) # 호출만 한 것 이므로 완전히 변한 것이 아님"
      ],
      "metadata": {
        "colab": {
          "base_uri": "https://localhost:8080/"
        },
        "id": "XiA3Chd_jlyW",
        "outputId": "5c8ddfc5-a880-492e-f9ea-4a15b213ea19"
      },
      "execution_count": 6,
      "outputs": [
        {
          "output_type": "execute_result",
          "data": {
            "text/plain": [
              "array([1, 2, 5, 8, 1, 2, 5, 8])"
            ]
          },
          "metadata": {},
          "execution_count": 6
        }
      ]
    },
    {
      "cell_type": "code",
      "source": [
        "x = x.reshape(-1,) # 이렇게 할당 해줘야 완전히 바뀌게 됨\n",
        "x"
      ],
      "metadata": {
        "colab": {
          "base_uri": "https://localhost:8080/"
        },
        "id": "rMjqLFKsjpYf",
        "outputId": "464d7c1b-0449-437f-ea33-f6773521f908"
      },
      "execution_count": 7,
      "outputs": [
        {
          "output_type": "execute_result",
          "data": {
            "text/plain": [
              "array([1, 2, 5, 8, 1, 2, 5, 8])"
            ]
          },
          "metadata": {},
          "execution_count": 7
        }
      ]
    },
    {
      "cell_type": "code",
      "source": [
        "x = np.array(range(8))\n",
        "x"
      ],
      "metadata": {
        "colab": {
          "base_uri": "https://localhost:8080/"
        },
        "id": "iQM-gbn4kiGo",
        "outputId": "870139f1-7294-4a6d-a512-5469b7b004fe"
      },
      "execution_count": 8,
      "outputs": [
        {
          "output_type": "execute_result",
          "data": {
            "text/plain": [
              "array([0, 1, 2, 3, 4, 5, 6, 7])"
            ]
          },
          "metadata": {},
          "execution_count": 8
        }
      ]
    },
    {
      "cell_type": "code",
      "source": [
        "x.reshape(4,2)"
      ],
      "metadata": {
        "colab": {
          "base_uri": "https://localhost:8080/"
        },
        "id": "MkzAcG0Mkp9H",
        "outputId": "fd5acd50-a492-4481-db06-c6efe63a20b0"
      },
      "execution_count": 9,
      "outputs": [
        {
          "output_type": "execute_result",
          "data": {
            "text/plain": [
              "array([[0, 1],\n",
              "       [2, 3],\n",
              "       [4, 5],\n",
              "       [6, 7]])"
            ]
          },
          "metadata": {},
          "execution_count": 9
        }
      ]
    },
    {
      "cell_type": "code",
      "source": [
        "x"
      ],
      "metadata": {
        "colab": {
          "base_uri": "https://localhost:8080/"
        },
        "id": "2WiMyqBEk7hf",
        "outputId": "3738475d-38d9-489a-b84b-acd75f787323"
      },
      "execution_count": 10,
      "outputs": [
        {
          "output_type": "execute_result",
          "data": {
            "text/plain": [
              "array([0, 1, 2, 3, 4, 5, 6, 7])"
            ]
          },
          "metadata": {},
          "execution_count": 10
        }
      ]
    },
    {
      "cell_type": "code",
      "source": [
        "x.reshape(2,4)"
      ],
      "metadata": {
        "colab": {
          "base_uri": "https://localhost:8080/"
        },
        "id": "SxZkDklJk9ff",
        "outputId": "0899cfc3-36d0-4492-f43d-11e9fcf454e6"
      },
      "execution_count": 11,
      "outputs": [
        {
          "output_type": "execute_result",
          "data": {
            "text/plain": [
              "array([[0, 1, 2, 3],\n",
              "       [4, 5, 6, 7]])"
            ]
          },
          "metadata": {},
          "execution_count": 11
        }
      ]
    },
    {
      "cell_type": "code",
      "source": [
        "x"
      ],
      "metadata": {
        "colab": {
          "base_uri": "https://localhost:8080/"
        },
        "id": "feMu3gRulBlv",
        "outputId": "4703c427-7342-45ec-b6bc-ea71087da0fd"
      },
      "execution_count": 12,
      "outputs": [
        {
          "output_type": "execute_result",
          "data": {
            "text/plain": [
              "array([0, 1, 2, 3, 4, 5, 6, 7])"
            ]
          },
          "metadata": {},
          "execution_count": 12
        }
      ]
    },
    {
      "cell_type": "code",
      "source": [
        "# 둘 다 같은 코드임\n",
        "# x = np.array(range(8)).reshape(2,2,2)\n",
        "\n",
        "x = range(8) # 0~7 총 8개의 원소를 가지는 백터 생성\n",
        "x = np.array(x) # 1차배열\n",
        "x = x.reshape(2,2,2) # 3차배열로 재정렬\n",
        "x"
      ],
      "metadata": {
        "id": "xWSRlYwmmOMp",
        "colab": {
          "base_uri": "https://localhost:8080/"
        },
        "outputId": "6fab8b99-29e9-403d-fde1-510510374af2"
      },
      "execution_count": 14,
      "outputs": [
        {
          "output_type": "execute_result",
          "data": {
            "text/plain": [
              "array([[[0, 1],\n",
              "        [2, 3]],\n",
              "\n",
              "       [[4, 5],\n",
              "        [6, 7]]])"
            ]
          },
          "metadata": {},
          "execution_count": 14
        }
      ]
    },
    {
      "cell_type": "code",
      "source": [
        "# x = 을 하지않으면 단지 호출할때만 적용되는 것이기 때문에\n",
        "# x에 값을 바꿀려면 x = 을 해야한다.\n",
        "\n",
        "x.flatten()"
      ],
      "metadata": {
        "colab": {
          "base_uri": "https://localhost:8080/"
        },
        "id": "OWAHm08MUTF7",
        "outputId": "7957bf62-9c7e-413e-f8b7-1fd054c72769"
      },
      "execution_count": 16,
      "outputs": [
        {
          "output_type": "execute_result",
          "data": {
            "text/plain": [
              "array([0, 1, 2, 3, 4, 5, 6, 7])"
            ]
          },
          "metadata": {},
          "execution_count": 16
        }
      ]
    },
    {
      "cell_type": "code",
      "source": [
        "x = np.array([[1,2,3,4,5], [6,7,8,9,10]])"
      ],
      "metadata": {
        "id": "uohtb_H_VFp4"
      },
      "execution_count": null,
      "outputs": []
    }
  ]
}