{
 "cells": [
  {
   "cell_type": "markdown",
   "id": "0d507f1d-0a6c-4190-853b-91e375b7ef80",
   "metadata": {},
   "source": [
    "# 03_Numpy_2_reshape"
   ]
  },
  {
   "cell_type": "code",
   "execution_count": 1,
   "id": "d3ad310b-9d8f-4a20-8e48-73f50fae7b6e",
   "metadata": {},
   "outputs": [
    {
     "data": {
      "text/plain": [
       "array([[1, 2, 5, 8],\n",
       "       [1, 2, 5, 8]])"
      ]
     },
     "execution_count": 1,
     "metadata": {},
     "output_type": "execute_result"
    }
   ],
   "source": [
    "import numpy as np\n",
    "\n",
    "x = np.array([[1,2,5,8],[1,2,5,8]])\n",
    "x"
   ]
  },
  {
   "cell_type": "code",
   "execution_count": 2,
   "id": "82186820-48d4-4518-8308-c657173c0ab3",
   "metadata": {},
   "outputs": [
    {
     "data": {
      "text/plain": [
       "(2, 4)"
      ]
     },
     "execution_count": 2,
     "metadata": {},
     "output_type": "execute_result"
    }
   ],
   "source": [
    "x.shape"
   ]
  },
  {
   "cell_type": "markdown",
   "id": "20358187-3655-467b-92b4-a4acf6bbdbc9",
   "metadata": {},
   "source": [
    "#### 배열 구조 변경 : 일시적으로 변경"
   ]
  },
  {
   "cell_type": "code",
   "execution_count": 3,
   "id": "6cb74f50-8107-4ab7-8c34-2311e8bff72e",
   "metadata": {},
   "outputs": [
    {
     "data": {
      "text/plain": [
       "array([1, 2, 5, 8, 1, 2, 5, 8])"
      ]
     },
     "execution_count": 3,
     "metadata": {},
     "output_type": "execute_result"
    }
   ],
   "source": [
    "x.reshape(-1, )"
   ]
  },
  {
   "cell_type": "code",
   "execution_count": 4,
   "id": "b8cd6070-e084-4eb4-8d0c-d95dee06b6c8",
   "metadata": {},
   "outputs": [
    {
     "data": {
      "text/plain": [
       "array([[1, 2],\n",
       "       [5, 8],\n",
       "       [1, 2],\n",
       "       [5, 8]])"
      ]
     },
     "execution_count": 4,
     "metadata": {},
     "output_type": "execute_result"
    }
   ],
   "source": [
    "x.reshape(4,2)"
   ]
  },
  {
   "cell_type": "code",
   "execution_count": 5,
   "id": "042a9c34-5d70-4e22-be20-15f86ebcdee1",
   "metadata": {},
   "outputs": [
    {
     "data": {
      "text/plain": [
       "array([[1, 2, 5, 8],\n",
       "       [1, 2, 5, 8]])"
      ]
     },
     "execution_count": 5,
     "metadata": {},
     "output_type": "execute_result"
    }
   ],
   "source": [
    "x.reshape(2,4)"
   ]
  },
  {
   "cell_type": "code",
   "execution_count": 6,
   "id": "c51128ea-2900-45ce-82ab-16dec0e35ebe",
   "metadata": {},
   "outputs": [
    {
     "data": {
      "text/plain": [
       "array([[1, 2],\n",
       "       [5, 8],\n",
       "       [1, 2],\n",
       "       [5, 8]])"
      ]
     },
     "execution_count": 6,
     "metadata": {},
     "output_type": "execute_result"
    }
   ],
   "source": [
    "x.reshape(4,2)"
   ]
  },
  {
   "cell_type": "markdown",
   "id": "c1ed72c8-ed2a-4989-a988-407e371e6757",
   "metadata": {},
   "source": [
    "## range(n) 배열 생성 및 reshape"
   ]
  },
  {
   "cell_type": "code",
   "execution_count": 7,
   "id": "c98dc495-8a6d-44b8-aa9a-d0dcd3825367",
   "metadata": {},
   "outputs": [
    {
     "data": {
      "text/plain": [
       "array([[0, 1],\n",
       "       [2, 3],\n",
       "       [4, 5],\n",
       "       [6, 7]])"
      ]
     },
     "execution_count": 7,
     "metadata": {},
     "output_type": "execute_result"
    }
   ],
   "source": [
    "y = np.array(range(8)).reshape(4,2)\n",
    "y"
   ]
  },
  {
   "cell_type": "code",
   "execution_count": 8,
   "id": "7a3e5b0a-f847-47c0-b6c9-7ba2ffe2d38c",
   "metadata": {},
   "outputs": [
    {
     "data": {
      "text/plain": [
       "array([[0, 1, 2, 3],\n",
       "       [4, 5, 6, 7]])"
      ]
     },
     "execution_count": 8,
     "metadata": {},
     "output_type": "execute_result"
    }
   ],
   "source": [
    "y.reshape(2, -1)"
   ]
  },
  {
   "cell_type": "code",
   "execution_count": 9,
   "id": "157f0e05-2bee-47e3-aaad-ded0c80d4fc8",
   "metadata": {},
   "outputs": [
    {
     "data": {
      "text/plain": [
       "array([[[0, 1],\n",
       "        [2, 3]],\n",
       "\n",
       "       [[4, 5],\n",
       "        [6, 7]]])"
      ]
     },
     "execution_count": 9,
     "metadata": {},
     "output_type": "execute_result"
    }
   ],
   "source": [
    "y.reshape(2,2,-1)"
   ]
  },
  {
   "cell_type": "code",
   "execution_count": 10,
   "id": "60455ecd-5a31-4447-8792-5b77b893215f",
   "metadata": {},
   "outputs": [
    {
     "data": {
      "text/plain": [
       "array([[[0, 1],\n",
       "        [2, 3]],\n",
       "\n",
       "       [[4, 5],\n",
       "        [6, 7]]])"
      ]
     },
     "execution_count": 10,
     "metadata": {},
     "output_type": "execute_result"
    }
   ],
   "source": [
    "y.reshape(2,2,2)"
   ]
  },
  {
   "cell_type": "markdown",
   "id": "c15b8857-26d5-4aaa-a9be-afec02f431e5",
   "metadata": {},
   "source": [
    "## flatten() : 배열의 구조만 변함, 데이터의 개수는 그대로 존재"
   ]
  },
  {
   "cell_type": "code",
   "execution_count": 11,
   "id": "488af9c1-211f-4c4b-99dc-5de632dc6c50",
   "metadata": {},
   "outputs": [
    {
     "data": {
      "text/plain": [
       "array([0, 1, 2, 3, 4, 5, 6, 7])"
      ]
     },
     "execution_count": 11,
     "metadata": {},
     "output_type": "execute_result"
    }
   ],
   "source": [
    "y.flatten()"
   ]
  },
  {
   "cell_type": "markdown",
   "id": "8643ee22-f6d4-4023-8679-605cbf40bc99",
   "metadata": {},
   "source": [
    "## 인덱싱 : [행][열] / [행,열] 형태"
   ]
  },
  {
   "cell_type": "code",
   "execution_count": 12,
   "id": "b13fa4d6-5c34-4db9-9b1a-8ee3ddb519a2",
   "metadata": {},
   "outputs": [
    {
     "data": {
      "text/plain": [
       "array([[1, 2, 3],\n",
       "       [4, 5, 6]])"
      ]
     },
     "execution_count": 12,
     "metadata": {},
     "output_type": "execute_result"
    }
   ],
   "source": [
    "z = np.array([[1,2,3], [4,5,6]], int)\n",
    "z"
   ]
  },
  {
   "cell_type": "code",
   "execution_count": 13,
   "id": "751c2e2d-9cf4-43a8-ace4-5a9a2dac4fbe",
   "metadata": {},
   "outputs": [
    {
     "name": "stdout",
     "output_type": "stream",
     "text": [
      "1\n",
      "3\n"
     ]
    }
   ],
   "source": [
    "print(z[0][0])\n",
    "print(z[0, 2])"
   ]
  },
  {
   "cell_type": "code",
   "execution_count": 14,
   "id": "5de30cbd-c47a-42f6-857a-e992e7c28247",
   "metadata": {},
   "outputs": [
    {
     "data": {
      "text/plain": [
       "array([[  1, 100,   3],\n",
       "       [  4,   5,   6]])"
      ]
     },
     "execution_count": 14,
     "metadata": {},
     "output_type": "execute_result"
    }
   ],
   "source": [
    "z[0, 1] = 100\n",
    "z"
   ]
  }
 ],
 "metadata": {
  "kernelspec": {
   "display_name": "Python 3 (ipykernel)",
   "language": "python",
   "name": "python3"
  },
  "language_info": {
   "codemirror_mode": {
    "name": "ipython",
    "version": 3
   },
   "file_extension": ".py",
   "mimetype": "text/x-python",
   "name": "python",
   "nbconvert_exporter": "python",
   "pygments_lexer": "ipython3",
   "version": "3.11.5"
  }
 },
 "nbformat": 4,
 "nbformat_minor": 5
}
