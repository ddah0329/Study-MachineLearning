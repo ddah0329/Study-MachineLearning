{
 "cells": [
  {
   "cell_type": "code",
   "execution_count": null,
   "id": "fb1c08b4-fbbf-4748-8c47-d6e5d80b473e",
   "metadata": {},
   "outputs": [],
   "source": [
    "import pandas as pd\n",
    "import numpy as np\n",
    "import tensorflow as tf\n",
    "import matplotlib.pyplot as plt\n",
    "import seaborn as sns\n",
    "\n",
    "f = pd.read_csv(\"c:/ml_workspace/finance.csv\")"
   ]
  },
  {
   "cell_type": "code",
   "execution_count": null,
   "id": "aa847780-fdea-47bb-822e-ebd4af7d262b",
   "metadata": {},
   "outputs": [],
   "source": [
    "# 1. 파일에서 읽은 데이터를 앞의 일부만 확인할 수 있도록 출력하는 코드\n",
    "f.head()\n",
    "\n",
    "# 2.차량 가치(vehicles)에 한하여 Q3+1.5*IQR값 보다 크면 이상치 값으로 정한다고 할 떄, 이상치인 값이 있는 행 번호(idx)를 생성하는 코드\n",
    "idx = np.where(f.vehicles > Q3 +1.5*IQR)\n",
    "\n",
    "# 3.\"idx\"에 해당하는 이상치 값은 \"vehicles\"열의 최대값으로 대체하는 코드\n",
    "for i in idx:\n",
    "   f.loc[i, \"vehicles\"] = f.vehicles.max()\n",
    "\n",
    "f.vehicles.loc[idx] = f.vehicles.max()"
   ]
  },
  {
   "cell_type": "code",
   "execution_count": null,
   "id": "4f1e0552-3dc2-466b-a187-d2b35e2f54c3",
   "metadata": {},
   "outputs": [],
   "source": [
    "# 4. 기타 자산(others)의 경우 '0'값이 많으므로 랜덤한 숫자로 채워주려고 한다. \n",
    "\n",
    "# 4-1. \"others\"열의 평균을 구하여 \"m\"에 저장하는 코드\n",
    "m = f.others.mean()\n",
    "\n",
    "# 4-2. \"others\"열의 분산을 구하여 \"s\"에 저장하는 코드\n",
    "s = f.others.std()\n",
    "\n",
    "# 4-3. \"others\"열에서 \"0\"값의 개수를 구하여 \"l\"에 저장하는 코드\n",
    "l = sum(f.others == 0)\n",
    "\n",
    "# 4-4. 위에서 구한 평균, 분산을 따르는 랜덤 숫자를 \"0\"값의 개수만큼 구하는 코드\n",
    "r = np.array(np.random.uniform(m, s, l)"
   ]
  },
  {
   "cell_type": "code",
   "execution_count": null,
   "id": "4e306e80-e209-4d85-a0a6-9dbd6742b1f1",
   "metadata": {},
   "outputs": [],
   "source": [
    "# 5. 나이부터 부채까지의 열을 독립 변수로 사용하여 순자산을 예측하려고 한다.\n",
    "             \n",
    "# 5-1. 전체 데이터인 \"f\"를 넘파이 배열로 바꾸는 코드\n",
    "f = np.array(f)\n",
    "print(type(f))\n",
    "\n",
    "# 5-2. 피쳐 데이터를 X에 저장하고, 예측하고자 하는 데이터를 y에 저장한다고 할 때, 모두 2차 배열의 형태로 저장할 수 있도록 하는 코드\n",
    "X = f[ : , 0:12]\n",
    "y = f[ : , 12].reshape(X.shape[0],1)\n"
   ]
  },
  {
   "cell_type": "code",
   "execution_count": null,
   "id": "e3a935ea-9aa0-4c30-b508-fef05dcd3f95",
   "metadata": {},
   "outputs": [],
   "source": [
    "X_tr, X_te, y_tr, y_te = train_test_split(X, y, test_size = 0.4, random_state = 42)\n",
    "lr = linear_model.LinearRegression(fit_intercept = True, copy_X = True, n_jobs = 10)\n",
    "[5-3]\n",
    "lr_y = [5-4]\n",
    "\n",
    "\n",
    "# 5-3. 분리한 훈련 데이터로 기본 선형 회귀 알고리즘으로 학습을 시켜 모델을 만드려고 한다. 빈 칸에 들어갈 코드\n",
    "lr.fit(X_tr, y_tr)\n",
    "\n",
    "# 5-4. 분리한 데스트 데이터로 모델을 다시 실행하여 예측하고자 한다. 빈 칸에 들어갈 코드\n",
    "lr_y = lr.predict(X_te)"
   ]
  }
 ],
 "metadata": {
  "kernelspec": {
   "display_name": "Python 3 (ipykernel)",
   "language": "python",
   "name": "python3"
  },
  "language_info": {
   "codemirror_mode": {
    "name": "ipython",
    "version": 3
   },
   "file_extension": ".py",
   "mimetype": "text/x-python",
   "name": "python",
   "nbconvert_exporter": "python",
   "pygments_lexer": "ipython3",
   "version": "3.11.5"
  }
 },
 "nbformat": 4,
 "nbformat_minor": 5
}
