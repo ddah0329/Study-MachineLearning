{
 "cells": [
  {
   "cell_type": "markdown",
   "id": "410c52d5-6c17-4dd8-b17e-056840b35e4a",
   "metadata": {},
   "source": [
    "# 03_Numpy_step"
   ]
  },
  {
   "cell_type": "markdown",
   "id": "799ee053-f608-4542-8130-a71161c5f3aa",
   "metadata": {},
   "source": [
    "### 형태 [시작인덱스 : 마지막 인덱스 : 증가값]"
   ]
  },
  {
   "cell_type": "code",
   "execution_count": 1,
   "id": "3c7083ca-31b3-438f-851e-58fbd96e59fb",
   "metadata": {},
   "outputs": [
    {
     "data": {
      "text/plain": [
       "array([[ 0,  1,  2,  3,  4],\n",
       "       [ 5,  6,  7,  8,  9],\n",
       "       [10, 11, 12, 13, 14]])"
      ]
     },
     "execution_count": 1,
     "metadata": {},
     "output_type": "execute_result"
    }
   ],
   "source": [
    "import numpy as np\n",
    "\n",
    "step_ex = np.array(range(15), int).reshape(3,-1)\n",
    "step_ex"
   ]
  },
  {
   "cell_type": "code",
   "execution_count": 2,
   "id": "6b0e5a24-b86e-4647-bdc8-bd1f40c7611b",
   "metadata": {},
   "outputs": [
    {
     "data": {
      "text/plain": [
       "array([[ 0,  2,  4],\n",
       "       [ 5,  7,  9],\n",
       "       [10, 12, 14]])"
      ]
     },
     "execution_count": 2,
     "metadata": {},
     "output_type": "execute_result"
    }
   ],
   "source": [
    "step_ex[:, ::2] # 모든 행인데 oxoxo으로 진행"
   ]
  },
  {
   "cell_type": "code",
   "execution_count": 3,
   "id": "7c1e25b8-7d28-4a06-a588-8079cf5a454d",
   "metadata": {},
   "outputs": [
    {
     "data": {
      "text/plain": [
       "array([[ 0,  3],\n",
       "       [10, 13]])"
      ]
     },
     "execution_count": 3,
     "metadata": {},
     "output_type": "execute_result"
    }
   ],
   "source": [
    "step_ex[::2, ::3] # 0,2행인데 oxxox으로 진행"
   ]
  }
 ],
 "metadata": {
  "kernelspec": {
   "display_name": "Python 3 (ipykernel)",
   "language": "python",
   "name": "python3"
  },
  "language_info": {
   "codemirror_mode": {
    "name": "ipython",
    "version": 3
   },
   "file_extension": ".py",
   "mimetype": "text/x-python",
   "name": "python",
   "nbconvert_exporter": "python",
   "pygments_lexer": "ipython3",
   "version": "3.11.5"
  }
 },
 "nbformat": 4,
 "nbformat_minor": 5
}
